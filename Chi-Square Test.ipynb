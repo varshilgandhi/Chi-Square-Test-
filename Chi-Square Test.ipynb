{
 "cells": [
  {
   "cell_type": "markdown",
   "id": "bbe9ee7d",
   "metadata": {},
   "source": [
    "# Chi-Square Test"
   ]
  },
  {
   "cell_type": "markdown",
   "id": "1527f7ea",
   "metadata": {},
   "source": [
    "The Test is applied when you have two categorical variables from a single population . It is used to determine whether is a significant association between two varibles."
   ]
  },
  {
   "cell_type": "code",
   "execution_count": 2,
   "id": "062bc771",
   "metadata": {},
   "outputs": [],
   "source": [
    "#It is the library used for chi-square test\n",
    "import scipy.stats as stats "
   ]
  },
  {
   "cell_type": "code",
   "execution_count": 5,
   "id": "8d72fdf1",
   "metadata": {},
   "outputs": [],
   "source": [
    "import seaborn as sns\n",
    "import pandas as pd\n",
    "import numpy as np\n",
    "dataset = sns.load_dataset(\"tips\")"
   ]
  },
  {
   "cell_type": "code",
   "execution_count": 6,
   "id": "dbc72efb",
   "metadata": {},
   "outputs": [
    {
     "data": {
      "text/html": [
       "<div>\n",
       "<style scoped>\n",
       "    .dataframe tbody tr th:only-of-type {\n",
       "        vertical-align: middle;\n",
       "    }\n",
       "\n",
       "    .dataframe tbody tr th {\n",
       "        vertical-align: top;\n",
       "    }\n",
       "\n",
       "    .dataframe thead th {\n",
       "        text-align: right;\n",
       "    }\n",
       "</style>\n",
       "<table border=\"1\" class=\"dataframe\">\n",
       "  <thead>\n",
       "    <tr style=\"text-align: right;\">\n",
       "      <th></th>\n",
       "      <th>total_bill</th>\n",
       "      <th>tip</th>\n",
       "      <th>sex</th>\n",
       "      <th>smoker</th>\n",
       "      <th>day</th>\n",
       "      <th>time</th>\n",
       "      <th>size</th>\n",
       "    </tr>\n",
       "  </thead>\n",
       "  <tbody>\n",
       "    <tr>\n",
       "      <th>0</th>\n",
       "      <td>16.99</td>\n",
       "      <td>1.01</td>\n",
       "      <td>Female</td>\n",
       "      <td>No</td>\n",
       "      <td>Sun</td>\n",
       "      <td>Dinner</td>\n",
       "      <td>2</td>\n",
       "    </tr>\n",
       "    <tr>\n",
       "      <th>1</th>\n",
       "      <td>10.34</td>\n",
       "      <td>1.66</td>\n",
       "      <td>Male</td>\n",
       "      <td>No</td>\n",
       "      <td>Sun</td>\n",
       "      <td>Dinner</td>\n",
       "      <td>3</td>\n",
       "    </tr>\n",
       "    <tr>\n",
       "      <th>2</th>\n",
       "      <td>21.01</td>\n",
       "      <td>3.50</td>\n",
       "      <td>Male</td>\n",
       "      <td>No</td>\n",
       "      <td>Sun</td>\n",
       "      <td>Dinner</td>\n",
       "      <td>3</td>\n",
       "    </tr>\n",
       "    <tr>\n",
       "      <th>3</th>\n",
       "      <td>23.68</td>\n",
       "      <td>3.31</td>\n",
       "      <td>Male</td>\n",
       "      <td>No</td>\n",
       "      <td>Sun</td>\n",
       "      <td>Dinner</td>\n",
       "      <td>2</td>\n",
       "    </tr>\n",
       "    <tr>\n",
       "      <th>4</th>\n",
       "      <td>24.59</td>\n",
       "      <td>3.61</td>\n",
       "      <td>Female</td>\n",
       "      <td>No</td>\n",
       "      <td>Sun</td>\n",
       "      <td>Dinner</td>\n",
       "      <td>4</td>\n",
       "    </tr>\n",
       "  </tbody>\n",
       "</table>\n",
       "</div>"
      ],
      "text/plain": [
       "   total_bill   tip     sex smoker  day    time  size\n",
       "0       16.99  1.01  Female     No  Sun  Dinner     2\n",
       "1       10.34  1.66    Male     No  Sun  Dinner     3\n",
       "2       21.01  3.50    Male     No  Sun  Dinner     3\n",
       "3       23.68  3.31    Male     No  Sun  Dinner     2\n",
       "4       24.59  3.61  Female     No  Sun  Dinner     4"
      ]
     },
     "execution_count": 6,
     "metadata": {},
     "output_type": "execute_result"
    }
   ],
   "source": [
    "dataset.head()"
   ]
  },
  {
   "cell_type": "code",
   "execution_count": 7,
   "id": "4f4051e1",
   "metadata": {},
   "outputs": [
    {
     "name": "stdout",
     "output_type": "stream",
     "text": [
      "smoker  Yes  No\n",
      "sex            \n",
      "Male     60  97\n",
      "Female   33  54\n"
     ]
    }
   ],
   "source": [
    "#here we want to check from above dataset is that isthere any association between sex and smoker. we will find it using chi-square.\n",
    "dataset_table = pd.crosstab(dataset['sex'],dataset['smoker'])\n",
    "print(dataset_table)"
   ]
  },
  {
   "cell_type": "code",
   "execution_count": 9,
   "id": "256c684c",
   "metadata": {},
   "outputs": [
    {
     "name": "stdout",
     "output_type": "stream",
     "text": [
      "[[60 97]\n",
      " [33 54]]\n"
     ]
    }
   ],
   "source": [
    "print(dataset_table.values)"
   ]
  },
  {
   "cell_type": "code",
   "execution_count": 8,
   "id": "49485700",
   "metadata": {},
   "outputs": [
    {
     "name": "stdout",
     "output_type": "stream",
     "text": [
      "Observed Values :-\n",
      " [[60 97]\n",
      " [33 54]]\n"
     ]
    }
   ],
   "source": [
    "#Observed above values\n",
    "Observed_Values = dataset_table.values\n",
    "print(\"Observed Values :-\\n\", Observed_Values)"
   ]
  },
  {
   "cell_type": "code",
   "execution_count": 11,
   "id": "d6cc3083",
   "metadata": {},
   "outputs": [],
   "source": [
    "val = stats.chi2_contingency(dataset_table)"
   ]
  },
  {
   "cell_type": "code",
   "execution_count": 13,
   "id": "f8082ba6",
   "metadata": {},
   "outputs": [
    {
     "data": {
      "text/plain": [
       "(0.008763290531773594,\n",
       " 0.925417020494423,\n",
       " 1,\n",
       " array([[59.84016393, 97.15983607],\n",
       "        [33.15983607, 53.84016393]]))"
      ]
     },
     "execution_count": 13,
     "metadata": {},
     "output_type": "execute_result"
    }
   ],
   "source": [
    "#It will our expected values\n",
    "val"
   ]
  },
  {
   "cell_type": "code",
   "execution_count": 14,
   "id": "b69ab7f2",
   "metadata": {},
   "outputs": [],
   "source": [
    "Expected_Values = val[3]"
   ]
  },
  {
   "cell_type": "code",
   "execution_count": 15,
   "id": "a017177f",
   "metadata": {},
   "outputs": [
    {
     "name": "stdout",
     "output_type": "stream",
     "text": [
      "Degree of Freedom:- 1\n"
     ]
    }
   ],
   "source": [
    "no_of_rows = len(dataset_table.iloc[0:2,0])\n",
    "no_of_columns = len(dataset_table.iloc[0,0:2])\n",
    "ddof = (no_of_rows-1)*(no_of_columns-1)\n",
    "print(\"Degree of Freedom:-\", ddof)\n",
    "alpha = 0.05"
   ]
  },
  {
   "cell_type": "markdown",
   "id": "eccab683",
   "metadata": {},
   "source": [
    "# Chi Square formula :\n",
    "    \n",
    "    \n",
    "    \n",
    "    \n",
    "    X^2 = SUM OF (Observed- Expected)^2/Expected\n",
    "    "
   ]
  },
  {
   "cell_type": "code",
   "execution_count": 17,
   "id": "1147fcb8",
   "metadata": {},
   "outputs": [],
   "source": [
    "from scipy.stats import chi2\n",
    "chi_square = sum([(o-e)**2./e for o,e in zip(Observed_Values, Expected_Values)])\n",
    "chi_square_statistic = chi_square[0] - chi_square[1]"
   ]
  },
  {
   "cell_type": "code",
   "execution_count": 18,
   "id": "f2dfa891",
   "metadata": {},
   "outputs": [
    {
     "name": "stdout",
     "output_type": "stream",
     "text": [
      "chi-square statistic:-  0.00045991588165738596\n"
     ]
    }
   ],
   "source": [
    "print(\"chi-square statistic:- \", chi_square_statistic)"
   ]
  },
  {
   "cell_type": "code",
   "execution_count": 19,
   "id": "53d1976f",
   "metadata": {},
   "outputs": [
    {
     "name": "stdout",
     "output_type": "stream",
     "text": [
      "Critical_Value :  3.841458820694124\n"
     ]
    }
   ],
   "source": [
    "critical_value = chi2.ppf(q=1-alpha, df=ddof)\n",
    "print(\"Critical_Value : \", critical_value)"
   ]
  },
  {
   "cell_type": "code",
   "execution_count": 21,
   "id": "ec65f936",
   "metadata": {},
   "outputs": [
    {
     "name": "stdout",
     "output_type": "stream",
     "text": [
      "P-value:  0.9828901589074648\n",
      "Significance level:  0.05\n",
      "Degree of Freedom:  1\n",
      "P-value: 0.9828901589074648\n"
     ]
    }
   ],
   "source": [
    "#P-Value\n",
    "p_value = 1-chi2.cdf(x=chi_square_statistic, df=ddof)\n",
    "print(\"P-value: \", p_value)\n",
    "print(\"Significance level: \", alpha)\n",
    "print(\"Degree of Freedom: \", ddof)\n",
    "print(\"P-value:\", p_value)"
   ]
  },
  {
   "cell_type": "code",
   "execution_count": 22,
   "id": "ed112c62",
   "metadata": {},
   "outputs": [
    {
     "name": "stdout",
     "output_type": "stream",
     "text": [
      "Retain H0, There is no relationship between 2 categorical variables\n",
      "Retain H0, There is no relationship between 2 categorical variables\n"
     ]
    }
   ],
   "source": [
    "if chi_square_statistic>=critical_value:\n",
    "    print(\"Reject H0, There is a relationship between 2 categorical variables\")\n",
    "    \n",
    "else:\n",
    "    print(\"Retain H0, There is no relationship between 2 categorical variables\")\n",
    "    \n",
    "if p_value<=alpha:\n",
    "    print(\"Reject H0, There is a relationship between 2 categorical variables\")\n",
    "    \n",
    "else:\n",
    "    print(\"Retain H0, There is no relationship between 2 categorical variables\")\n",
    "    \n",
    "\n",
    "    \n"
   ]
  },
  {
   "cell_type": "markdown",
   "id": "8eea549c",
   "metadata": {},
   "source": []
  },
  {
   "cell_type": "code",
   "execution_count": null,
   "id": "3e5450d7",
   "metadata": {},
   "outputs": [],
   "source": []
  }
 ],
 "metadata": {
  "kernelspec": {
   "display_name": "Python 3",
   "language": "python",
   "name": "python3"
  },
  "language_info": {
   "codemirror_mode": {
    "name": "ipython",
    "version": 3
   },
   "file_extension": ".py",
   "mimetype": "text/x-python",
   "name": "python",
   "nbconvert_exporter": "python",
   "pygments_lexer": "ipython3",
   "version": "3.8.8"
  }
 },
 "nbformat": 4,
 "nbformat_minor": 5
}
